{
 "cells": [
  {
   "cell_type": "markdown",
   "id": "66654ea5-9fe5-46c0-bfaa-c984565773b3",
   "metadata": {},
   "source": [
    "### 1. Сбор скаченных данных в формате .shp с geofabrik"
   ]
  },
  {
   "cell_type": "code",
   "execution_count": 2,
   "id": "4f848b4c-2da9-4b13-a7f6-c81cc93d2686",
   "metadata": {},
   "outputs": [
    {
     "name": "stdout",
     "output_type": "stream",
     "text": [
      "Intel MKL WARNING: Support of Intel(R) Streaming SIMD Extensions 4.2 (Intel(R) SSE4.2) enabled only processors has been deprecated. Intel oneAPI Math Kernel Library 2025.0 will require Intel(R) Advanced Vector Extensions (Intel(R) AVX) instructions.\n",
      "Intel MKL WARNING: Support of Intel(R) Streaming SIMD Extensions 4.2 (Intel(R) SSE4.2) enabled only processors has been deprecated. Intel oneAPI Math Kernel Library 2025.0 will require Intel(R) Advanced Vector Extensions (Intel(R) AVX) instructions.\n"
     ]
    },
    {
     "name": "stderr",
     "output_type": "stream",
     "text": [
      "/opt/anaconda3/lib/python3.9/site-packages/geopandas/_compat.py:123: UserWarning: The Shapely GEOS version (3.11.3-CAPI-1.17.3) is incompatible with the GEOS version PyGEOS was compiled with (3.10.4-CAPI-1.16.2). Conversions between both will be slow.\n",
      "  warnings.warn(\n",
      "/var/folders/40/syqp3b6j0cdf65gmn816vtx40000gn/T/ipykernel_4173/4254537201.py:1: UserWarning: Shapely 2.0 is installed, but because PyGEOS is also installed, GeoPandas will still use PyGEOS by default for now. To force to use and test Shapely 2.0, you have to set the environment variable USE_PYGEOS=0. You can do this before starting the Python process, or in your code before importing geopandas:\n",
      "\n",
      "import os\n",
      "os.environ['USE_PYGEOS'] = '0'\n",
      "import geopandas\n",
      "\n",
      "In a future release, GeoPandas will switch to using Shapely by default. If you are using PyGEOS directly (calling PyGEOS functions on geometries from GeoPandas), this will then stop working and you are encouraged to migrate from PyGEOS to Shapely 2.0 (https://shapely.readthedocs.io/en/latest/migration_pygeos.html).\n",
      "  import geopandas as gpd\n"
     ]
    }
   ],
   "source": [
    "import geopandas as gpd\n",
    "import os, sys\n",
    "import numpy as np\n",
    "import pandas as pd"
   ]
  },
  {
   "cell_type": "code",
   "execution_count": 5,
   "id": "e1a52232",
   "metadata": {},
   "outputs": [],
   "source": [
    "#регионы\n",
    "region = ['Central_Federal_District',\n",
    "          'Crimean_Federal_District',\n",
    "          'Far_Eastern_Federal_District',\n",
    "          'North_Caucasus_Federal_District',\n",
    "          'Northwestern_Federal_District',\n",
    "          'Siberian_Federal_District',\n",
    "          'South_Federal_District',\n",
    "          'Ural_Federal_District',\n",
    "          'Volga_Federal_District']\n",
    "#названия файлов\n",
    "l =  ['gis_osm_pois_free_1.shp',\n",
    "      'gis_osm_buildings_a_free_1.shp',\n",
    "      'gis_osm_transport_free_1.shp',\n",
    "      'gis_osm_places_free_1.shp',\n",
    "      'gis_osm_traffic_free_1.shp']\n",
    "#название файла - содержимое\n",
    "sl =  {'gis_osm_pois_free_1.shp': 'pois',\n",
    "      'gis_osm_buildings_a_free_1.shp':'buildings',\n",
    "      'gis_osm_transport_free_1.shp':'transport',\n",
    "      'gis_osm_places_free_1.shp':'places',\n",
    "      'gis_osm_traffic_free_1.shp':'traffic'}"
   ]
  },
  {
   "cell_type": "code",
   "execution_count": 6,
   "id": "a575fa70",
   "metadata": {},
   "outputs": [],
   "source": [
    "#названия переменных\n",
    "list_reg_object=[]\n",
    "for i in region:\n",
    "    path = \"/Users/igorkim/Desktop/ВШЭ/Курсы/Годовой проект/Данные/\"+i+'/'\n",
    "    dirs = os.listdir( path )\n",
    "    for file in dirs:\n",
    "        if file in l:\n",
    "            for k,v in sl.items():\n",
    "                if k==file:\n",
    "                    list_reg_object.append(path[54:-1]+\"_\"+v)"
   ]
  },
  {
   "cell_type": "code",
   "execution_count": 11,
   "id": "51ad7839",
   "metadata": {},
   "outputs": [
    {
     "name": "stdout",
     "output_type": "stream",
     "text": [
      "/Central_Federal_District_buildings\n",
      "/Central_Federal_District_places\n",
      "/Central_Federal_District_pois\n",
      "/Central_Federal_District_traffic\n",
      "/Central_Federal_District_transport\n",
      "/Crimean_Federal_District_buildings\n",
      "/Crimean_Federal_District_places\n",
      "/Crimean_Federal_District_pois\n",
      "/Crimean_Federal_District_traffic\n",
      "/Crimean_Federal_District_transport\n",
      "/Far_Eastern_Federal_District_buildings\n",
      "/Far_Eastern_Federal_District_places\n",
      "/Far_Eastern_Federal_District_pois\n",
      "/Far_Eastern_Federal_District_traffic\n",
      "/Far_Eastern_Federal_District_transport\n",
      "/North_Caucasus_Federal_District_buildings\n",
      "/North_Caucasus_Federal_District_places\n",
      "/North_Caucasus_Federal_District_pois\n",
      "/North_Caucasus_Federal_District_traffic\n",
      "/North_Caucasus_Federal_District_transport\n",
      "/Northwestern_Federal_District_buildings\n",
      "/Northwestern_Federal_District_places\n",
      "/Northwestern_Federal_District_pois\n",
      "/Northwestern_Federal_District_traffic\n",
      "/Northwestern_Federal_District_transport\n",
      "/Siberian_Federal_District_buildings\n",
      "/Siberian_Federal_District_places\n",
      "/Siberian_Federal_District_pois\n",
      "/Siberian_Federal_District_traffic\n",
      "/Siberian_Federal_District_transport\n",
      "/South_Federal_District_buildings\n",
      "/South_Federal_District_places\n",
      "/South_Federal_District_pois\n",
      "/South_Federal_District_traffic\n",
      "/South_Federal_District_transport\n",
      "/Ural_Federal_District_buildings\n",
      "/Ural_Federal_District_places\n",
      "/Ural_Federal_District_pois\n",
      "/Ural_Federal_District_traffic\n",
      "/Ural_Federal_District_transport\n",
      "/Volga_Federal_District_buildings\n",
      "/Volga_Federal_District_places\n",
      "/Volga_Federal_District_pois\n",
      "/Volga_Federal_District_traffic\n",
      "/Volga_Federal_District_transport\n"
     ]
    }
   ],
   "source": [
    "print(*sorted(list_reg_object), sep = '\\n')"
   ]
  },
  {
   "cell_type": "code",
   "execution_count": 12,
   "id": "aafb9782",
   "metadata": {},
   "outputs": [],
   "source": [
    "full_path = []\n",
    "path = \"/Users/igorkim/Desktop/ВШЭ/Курсы/Годовой проект/Данные/\"\n",
    "for i in region:\n",
    "    for j in l:\n",
    "        full_path.append(path+i+'/'+j)"
   ]
  },
  {
   "cell_type": "code",
   "execution_count": 6,
   "id": "f19e5293",
   "metadata": {},
   "outputs": [
    {
     "name": "stdout",
     "output_type": "stream",
     "text": [
      "/Users/igorkim/Desktop/ВШЭ/Курсы/Годовой проект/Данные/Central_Federal_District/gis_osm_buildings_a_free_1.shp\n",
      "/Users/igorkim/Desktop/ВШЭ/Курсы/Годовой проект/Данные/Central_Federal_District/gis_osm_places_free_1.shp\n",
      "/Users/igorkim/Desktop/ВШЭ/Курсы/Годовой проект/Данные/Central_Federal_District/gis_osm_pois_free_1.shp\n",
      "/Users/igorkim/Desktop/ВШЭ/Курсы/Годовой проект/Данные/Central_Federal_District/gis_osm_traffic_free_1.shp\n",
      "/Users/igorkim/Desktop/ВШЭ/Курсы/Годовой проект/Данные/Central_Federal_District/gis_osm_transport_free_1.shp\n",
      "/Users/igorkim/Desktop/ВШЭ/Курсы/Годовой проект/Данные/Crimean_Federal_District/gis_osm_buildings_a_free_1.shp\n",
      "/Users/igorkim/Desktop/ВШЭ/Курсы/Годовой проект/Данные/Crimean_Federal_District/gis_osm_places_free_1.shp\n",
      "/Users/igorkim/Desktop/ВШЭ/Курсы/Годовой проект/Данные/Crimean_Federal_District/gis_osm_pois_free_1.shp\n",
      "/Users/igorkim/Desktop/ВШЭ/Курсы/Годовой проект/Данные/Crimean_Federal_District/gis_osm_traffic_free_1.shp\n",
      "/Users/igorkim/Desktop/ВШЭ/Курсы/Годовой проект/Данные/Crimean_Federal_District/gis_osm_transport_free_1.shp\n",
      "/Users/igorkim/Desktop/ВШЭ/Курсы/Годовой проект/Данные/Far_Eastern_Federal_District/gis_osm_buildings_a_free_1.shp\n",
      "/Users/igorkim/Desktop/ВШЭ/Курсы/Годовой проект/Данные/Far_Eastern_Federal_District/gis_osm_places_free_1.shp\n",
      "/Users/igorkim/Desktop/ВШЭ/Курсы/Годовой проект/Данные/Far_Eastern_Federal_District/gis_osm_pois_free_1.shp\n",
      "/Users/igorkim/Desktop/ВШЭ/Курсы/Годовой проект/Данные/Far_Eastern_Federal_District/gis_osm_traffic_free_1.shp\n",
      "/Users/igorkim/Desktop/ВШЭ/Курсы/Годовой проект/Данные/Far_Eastern_Federal_District/gis_osm_transport_free_1.shp\n",
      "/Users/igorkim/Desktop/ВШЭ/Курсы/Годовой проект/Данные/North_Caucasus_Federal_District/gis_osm_buildings_a_free_1.shp\n",
      "/Users/igorkim/Desktop/ВШЭ/Курсы/Годовой проект/Данные/North_Caucasus_Federal_District/gis_osm_places_free_1.shp\n",
      "/Users/igorkim/Desktop/ВШЭ/Курсы/Годовой проект/Данные/North_Caucasus_Federal_District/gis_osm_pois_free_1.shp\n",
      "/Users/igorkim/Desktop/ВШЭ/Курсы/Годовой проект/Данные/North_Caucasus_Federal_District/gis_osm_traffic_free_1.shp\n",
      "/Users/igorkim/Desktop/ВШЭ/Курсы/Годовой проект/Данные/North_Caucasus_Federal_District/gis_osm_transport_free_1.shp\n",
      "/Users/igorkim/Desktop/ВШЭ/Курсы/Годовой проект/Данные/Northwestern_Federal_District/gis_osm_buildings_a_free_1.shp\n",
      "/Users/igorkim/Desktop/ВШЭ/Курсы/Годовой проект/Данные/Northwestern_Federal_District/gis_osm_places_free_1.shp\n",
      "/Users/igorkim/Desktop/ВШЭ/Курсы/Годовой проект/Данные/Northwestern_Federal_District/gis_osm_pois_free_1.shp\n",
      "/Users/igorkim/Desktop/ВШЭ/Курсы/Годовой проект/Данные/Northwestern_Federal_District/gis_osm_traffic_free_1.shp\n",
      "/Users/igorkim/Desktop/ВШЭ/Курсы/Годовой проект/Данные/Northwestern_Federal_District/gis_osm_transport_free_1.shp\n",
      "/Users/igorkim/Desktop/ВШЭ/Курсы/Годовой проект/Данные/Siberian_Federal_District/gis_osm_buildings_a_free_1.shp\n",
      "/Users/igorkim/Desktop/ВШЭ/Курсы/Годовой проект/Данные/Siberian_Federal_District/gis_osm_places_free_1.shp\n",
      "/Users/igorkim/Desktop/ВШЭ/Курсы/Годовой проект/Данные/Siberian_Federal_District/gis_osm_pois_free_1.shp\n",
      "/Users/igorkim/Desktop/ВШЭ/Курсы/Годовой проект/Данные/Siberian_Federal_District/gis_osm_traffic_free_1.shp\n",
      "/Users/igorkim/Desktop/ВШЭ/Курсы/Годовой проект/Данные/Siberian_Federal_District/gis_osm_transport_free_1.shp\n",
      "/Users/igorkim/Desktop/ВШЭ/Курсы/Годовой проект/Данные/South_Federal_District/gis_osm_buildings_a_free_1.shp\n",
      "/Users/igorkim/Desktop/ВШЭ/Курсы/Годовой проект/Данные/South_Federal_District/gis_osm_places_free_1.shp\n",
      "/Users/igorkim/Desktop/ВШЭ/Курсы/Годовой проект/Данные/South_Federal_District/gis_osm_pois_free_1.shp\n",
      "/Users/igorkim/Desktop/ВШЭ/Курсы/Годовой проект/Данные/South_Federal_District/gis_osm_traffic_free_1.shp\n",
      "/Users/igorkim/Desktop/ВШЭ/Курсы/Годовой проект/Данные/South_Federal_District/gis_osm_transport_free_1.shp\n",
      "/Users/igorkim/Desktop/ВШЭ/Курсы/Годовой проект/Данные/Ural_Federal_District/gis_osm_buildings_a_free_1.shp\n",
      "/Users/igorkim/Desktop/ВШЭ/Курсы/Годовой проект/Данные/Ural_Federal_District/gis_osm_places_free_1.shp\n",
      "/Users/igorkim/Desktop/ВШЭ/Курсы/Годовой проект/Данные/Ural_Federal_District/gis_osm_pois_free_1.shp\n",
      "/Users/igorkim/Desktop/ВШЭ/Курсы/Годовой проект/Данные/Ural_Federal_District/gis_osm_traffic_free_1.shp\n",
      "/Users/igorkim/Desktop/ВШЭ/Курсы/Годовой проект/Данные/Ural_Federal_District/gis_osm_transport_free_1.shp\n",
      "/Users/igorkim/Desktop/ВШЭ/Курсы/Годовой проект/Данные/Volga_Federal_District/gis_osm_buildings_a_free_1.shp\n",
      "/Users/igorkim/Desktop/ВШЭ/Курсы/Годовой проект/Данные/Volga_Federal_District/gis_osm_places_free_1.shp\n",
      "/Users/igorkim/Desktop/ВШЭ/Курсы/Годовой проект/Данные/Volga_Federal_District/gis_osm_pois_free_1.shp\n",
      "/Users/igorkim/Desktop/ВШЭ/Курсы/Годовой проект/Данные/Volga_Federal_District/gis_osm_traffic_free_1.shp\n",
      "/Users/igorkim/Desktop/ВШЭ/Курсы/Годовой проект/Данные/Volga_Federal_District/gis_osm_transport_free_1.shp\n"
     ]
    }
   ],
   "source": [
    "print(*sorted(full_path),sep ='\\n')"
   ]
  },
  {
   "cell_type": "code",
   "execution_count": null,
   "id": "80edadb7-cb44-4ab7-b744-e9635f4b85ab",
   "metadata": {},
   "outputs": [],
   "source": [
    "#подготовка данных в эксель\n",
    "Central_Federal_District_buildings=gpd.read_file('/Users/igorkim/Desktop/ВШЭ/Курсы/Годовой проект/Данные/Central_Federal_District/gis_osm_buildings_a_free_1.shp')\n",
    "Central_Federal_District_places=gpd.read_file('/Users/igorkim/Desktop/ВШЭ/Курсы/Годовой проект/Данные/Central_Federal_District/gis_osm_places_free_1.shp')\n",
    "Central_Federal_District_pois=gpd.read_file('/Users/igorkim/Desktop/ВШЭ/Курсы/Годовой проект/Данные/Central_Federal_District/gis_osm_pois_free_1.shp')\n",
    "Central_Federal_District_traffic=gpd.read_file('/Users/igorkim/Desktop/ВШЭ/Курсы/Годовой проект/Данные/Central_Federal_District/gis_osm_traffic_free_1.shp')\n",
    "Central_Federal_District_transport=gpd.read_file('/Users/igorkim/Desktop/ВШЭ/Курсы/Годовой проект/Данные/Central_Federal_District/gis_osm_transport_free_1.shp')\n",
    "Crimean_Federal_District_buildings=gpd.read_file('/Users/igorkim/Desktop/ВШЭ/Курсы/Годовой проект/Данные/Crimean_Federal_District/gis_osm_buildings_a_free_1.shp')\n",
    "Crimean_Federal_District_places=gpd.read_file('/Users/igorkim/Desktop/ВШЭ/Курсы/Годовой проект/Данные/Crimean_Federal_District/gis_osm_places_free_1.shp')\n",
    "Crimean_Federal_District_pois=gpd.read_file('/Users/igorkim/Desktop/ВШЭ/Курсы/Годовой проект/Данные/Crimean_Federal_District/gis_osm_pois_free_1.shp')\n",
    "Crimean_Federal_District_traffic=gpd.read_file('/Users/igorkim/Desktop/ВШЭ/Курсы/Годовой проект/Данные/Crimean_Federal_District/gis_osm_traffic_free_1.shp')\n",
    "Crimean_Federal_District_transport=gpd.read_file('/Users/igorkim/Desktop/ВШЭ/Курсы/Годовой проект/Данные/Crimean_Federal_District/gis_osm_transport_free_1.shp')\n",
    "Far_Eastern_Federal_District_buildings=gpd.read_file('/Users/igorkim/Desktop/ВШЭ/Курсы/Годовой проект/Данные/Far_Eastern_Federal_District/gis_osm_buildings_a_free_1.shp')\n",
    "Far_Eastern_Federal_District_places=gpd.read_file('/Users/igorkim/Desktop/ВШЭ/Курсы/Годовой проект/Данные/Far_Eastern_Federal_District/gis_osm_places_free_1.shp')\n",
    "Far_Eastern_Federal_District_pois=gpd.read_file('/Users/igorkim/Desktop/ВШЭ/Курсы/Годовой проект/Данные/Far_Eastern_Federal_District/gis_osm_pois_free_1.shp')\n",
    "Far_Eastern_Federal_District_traffic=gpd.read_file('/Users/igorkim/Desktop/ВШЭ/Курсы/Годовой проект/Данные/Far_Eastern_Federal_District/gis_osm_traffic_free_1.shp')\n",
    "Far_Eastern_Federal_District_transport=gpd.read_file('/Users/igorkim/Desktop/ВШЭ/Курсы/Годовой проект/Данные/Far_Eastern_Federal_District/gis_osm_transport_free_1.shp')\n",
    "North_Caucasus_Federal_District_buildings=gpd.read_file('/Users/igorkim/Desktop/ВШЭ/Курсы/Годовой проект/Данные/North_Caucasus_Federal_District/gis_osm_buildings_a_free_1.shp')\n",
    "North_Caucasus_Federal_District_places=gpd.read_file('/Users/igorkim/Desktop/ВШЭ/Курсы/Годовой проект/Данные/North_Caucasus_Federal_District/gis_osm_places_free_1.shp')\n",
    "North_Caucasus_Federal_District_pois=gpd.read_file('/Users/igorkim/Desktop/ВШЭ/Курсы/Годовой проект/Данные/North_Caucasus_Federal_District/gis_osm_pois_free_1.shp')\n",
    "North_Caucasus_Federal_District_traffic=gpd.read_file('/Users/igorkim/Desktop/ВШЭ/Курсы/Годовой проект/Данные/North_Caucasus_Federal_District/gis_osm_traffic_free_1.shp')\n",
    "North_Caucasus_Federal_District_transport=gpd.read_file('/Users/igorkim/Desktop/ВШЭ/Курсы/Годовой проект/Данные/North_Caucasus_Federal_District/gis_osm_transport_free_1.shp')\n",
    "Northwestern_Federal_District_buildings=gpd.read_file('/Users/igorkim/Desktop/ВШЭ/Курсы/Годовой проект/Данные/Northwestern_Federal_District/gis_osm_buildings_a_free_1.shp')\n",
    "Northwestern_Federal_District_places=gpd.read_file('/Users/igorkim/Desktop/ВШЭ/Курсы/Годовой проект/Данные/Northwestern_Federal_District/gis_osm_places_free_1.shp')\n",
    "Northwestern_Federal_District_pois=gpd.read_file('/Users/igorkim/Desktop/ВШЭ/Курсы/Годовой проект/Данные/Northwestern_Federal_District/gis_osm_pois_free_1.shp')\n",
    "Northwestern_Federal_District_traffic=gpd.read_file('/Users/igorkim/Desktop/ВШЭ/Курсы/Годовой проект/Данные/Northwestern_Federal_District/gis_osm_traffic_free_1.shp')\n",
    "Northwestern_Federal_District_transport=gpd.read_file('/Users/igorkim/Desktop/ВШЭ/Курсы/Годовой проект/Данные/Northwestern_Federal_District/gis_osm_transport_free_1.shp')\n",
    "Siberian_Federal_District_buildings=gpd.read_file('/Users/igorkim/Desktop/ВШЭ/Курсы/Годовой проект/Данные/Siberian_Federal_District/gis_osm_buildings_a_free_1.shp')\n",
    "Siberian_Federal_District_places=gpd.read_file('/Users/igorkim/Desktop/ВШЭ/Курсы/Годовой проект/Данные/Siberian_Federal_District/gis_osm_places_free_1.shp')\n",
    "Siberian_Federal_District_pois=gpd.read_file('/Users/igorkim/Desktop/ВШЭ/Курсы/Годовой проект/Данные/Siberian_Federal_District/gis_osm_pois_free_1.shp')\n",
    "Siberian_Federal_District_traffic=gpd.read_file('/Users/igorkim/Desktop/ВШЭ/Курсы/Годовой проект/Данные/Siberian_Federal_District/gis_osm_traffic_free_1.shp')\n",
    "Siberian_Federal_District_transport=gpd.read_file('/Users/igorkim/Desktop/ВШЭ/Курсы/Годовой проект/Данные/Siberian_Federal_District/gis_osm_transport_free_1.shp')\n",
    "South_Federal_District_buildings=gpd.read_file('/Users/igorkim/Desktop/ВШЭ/Курсы/Годовой проект/Данные/South_Federal_District/gis_osm_buildings_a_free_1.shp')\n",
    "South_Federal_District_places=gpd.read_file('/Users/igorkim/Desktop/ВШЭ/Курсы/Годовой проект/Данные/South_Federal_District/gis_osm_places_free_1.shp')\n",
    "South_Federal_District_pois=gpd.read_file('/Users/igorkim/Desktop/ВШЭ/Курсы/Годовой проект/Данные/South_Federal_District/gis_osm_pois_free_1.shp')\n",
    "South_Federal_District_traffic=gpd.read_file('/Users/igorkim/Desktop/ВШЭ/Курсы/Годовой проект/Данные/South_Federal_District/gis_osm_traffic_free_1.shp')\n",
    "South_Federal_District_transport=gpd.read_file('/Users/igorkim/Desktop/ВШЭ/Курсы/Годовой проект/Данные/South_Federal_District/gis_osm_transport_free_1.shp')\n",
    "Ural_Federal_District_buildings=gpd.read_file('/Users/igorkim/Desktop/ВШЭ/Курсы/Годовой проект/Данные/Ural_Federal_District/gis_osm_buildings_a_free_1.shp')\n",
    "Ural_Federal_District_places=gpd.read_file('/Users/igorkim/Desktop/ВШЭ/Курсы/Годовой проект/Данные/Ural_Federal_District/gis_osm_places_free_1.shp')\n",
    "Ural_Federal_District_pois=gpd.read_file('/Users/igorkim/Desktop/ВШЭ/Курсы/Годовой проект/Данные/Ural_Federal_District/gis_osm_pois_free_1.shp')\n",
    "Ural_Federal_District_traffic=gpd.read_file('/Users/igorkim/Desktop/ВШЭ/Курсы/Годовой проект/Данные/Ural_Federal_District/gis_osm_traffic_free_1.shp')\n",
    "Ural_Federal_District_transport=gpd.read_file('/Users/igorkim/Desktop/ВШЭ/Курсы/Годовой проект/Данные/Ural_Federal_District/gis_osm_transport_free_1.shp')\n",
    "Volga_Federal_District_buildings=gpd.read_file('/Users/igorkim/Desktop/ВШЭ/Курсы/Годовой проект/Данные/Volga_Federal_District/gis_osm_buildings_a_free_1.shp')\n",
    "Volga_Federal_District_places=gpd.read_file('/Users/igorkim/Desktop/ВШЭ/Курсы/Годовой проект/Данные/Volga_Federal_District/gis_osm_places_free_1.shp')\n",
    "Volga_Federal_District_pois=gpd.read_file('/Users/igorkim/Desktop/ВШЭ/Курсы/Годовой проект/Данные/Volga_Federal_District/gis_osm_pois_free_1.shp')\n",
    "Volga_Federal_District_traffic=gpd.read_file('/Users/igorkim/Desktop/ВШЭ/Курсы/Годовой проект/Данные/Volga_Federal_District/gis_osm_traffic_free_1.shp')\n",
    "Volga_Federal_District_transport=gpd.read_file('/Users/igorkim/Desktop/ВШЭ/Курсы/Годовой проект/Данные/Volga_Federal_District/gis_osm_transport_free_1.shp')"
   ]
  },
  {
   "cell_type": "code",
   "execution_count": 13,
   "id": "f20bfac8",
   "metadata": {},
   "outputs": [],
   "source": [
    "Central_Federal_District_buildings=gpd.read_file('/Users/igorkim/Desktop/ВШЭ/Курсы/Годовой проект/Данные/Central_Federal_District/gis_osm_buildings_a_free_1.shp')\n",
    "Central_Federal_District_places=gpd.read_file('/Users/igorkim/Desktop/ВШЭ/Курсы/Годовой проект/Данные/Central_Federal_District/gis_osm_places_free_1.shp')\n",
    "Central_Federal_District_pois=gpd.read_file('/Users/igorkim/Desktop/ВШЭ/Курсы/Годовой проект/Данные/Central_Federal_District/gis_osm_pois_free_1.shp')\n",
    "Central_Federal_District_traffic=gpd.read_file('/Users/igorkim/Desktop/ВШЭ/Курсы/Годовой проект/Данные/Central_Federal_District/gis_osm_traffic_free_1.shp')\n",
    "Central_Federal_District_transport=gpd.read_file('/Users/igorkim/Desktop/ВШЭ/Курсы/Годовой проект/Данные/Central_Federal_District/gis_osm_transport_free_1.shp')"
   ]
  },
  {
   "cell_type": "code",
   "execution_count": 15,
   "id": "a16c647e",
   "metadata": {},
   "outputs": [],
   "source": [
    "Crimean_Federal_District_buildings=gpd.read_file('/Users/igorkim/Desktop/ВШЭ/Курсы/Годовой проект/Данные/Crimean_Federal_District/gis_osm_buildings_a_free_1.shp')\n",
    "Crimean_Federal_District_places=gpd.read_file('/Users/igorkim/Desktop/ВШЭ/Курсы/Годовой проект/Данные/Crimean_Federal_District/gis_osm_places_free_1.shp')\n",
    "Crimean_Federal_District_pois=gpd.read_file('/Users/igorkim/Desktop/ВШЭ/Курсы/Годовой проект/Данные/Crimean_Federal_District/gis_osm_pois_free_1.shp')\n",
    "Crimean_Federal_District_traffic=gpd.read_file('/Users/igorkim/Desktop/ВШЭ/Курсы/Годовой проект/Данные/Crimean_Federal_District/gis_osm_traffic_free_1.shp')\n",
    "Crimean_Federal_District_transport=gpd.read_file('/Users/igorkim/Desktop/ВШЭ/Курсы/Годовой проект/Данные/Crimean_Federal_District/gis_osm_transport_free_1.shp')"
   ]
  },
  {
   "cell_type": "code",
   "execution_count": 16,
   "id": "8dc90796",
   "metadata": {},
   "outputs": [],
   "source": [
    "Far_Eastern_Federal_District_buildings=gpd.read_file('/Users/igorkim/Desktop/ВШЭ/Курсы/Годовой проект/Данные/Far_Eastern_Federal_District/gis_osm_buildings_a_free_1.shp')\n",
    "Far_Eastern_Federal_District_places=gpd.read_file('/Users/igorkim/Desktop/ВШЭ/Курсы/Годовой проект/Данные/Far_Eastern_Federal_District/gis_osm_places_free_1.shp')\n",
    "Far_Eastern_Federal_District_pois=gpd.read_file('/Users/igorkim/Desktop/ВШЭ/Курсы/Годовой проект/Данные/Far_Eastern_Federal_District/gis_osm_pois_free_1.shp')\n",
    "Far_Eastern_Federal_District_traffic=gpd.read_file('/Users/igorkim/Desktop/ВШЭ/Курсы/Годовой проект/Данные/Far_Eastern_Federal_District/gis_osm_traffic_free_1.shp')\n",
    "Far_Eastern_Federal_District_transport=gpd.read_file('/Users/igorkim/Desktop/ВШЭ/Курсы/Годовой проект/Данные/Far_Eastern_Federal_District/gis_osm_transport_free_1.shp')"
   ]
  },
  {
   "cell_type": "code",
   "execution_count": 17,
   "id": "ae4cdcc2",
   "metadata": {},
   "outputs": [],
   "source": [
    "North_Caucasus_Federal_District_buildings=gpd.read_file('/Users/igorkim/Desktop/ВШЭ/Курсы/Годовой проект/Данные/North_Caucasus_Federal_District/gis_osm_buildings_a_free_1.shp')\n",
    "North_Caucasus_Federal_District_places=gpd.read_file('/Users/igorkim/Desktop/ВШЭ/Курсы/Годовой проект/Данные/North_Caucasus_Federal_District/gis_osm_places_free_1.shp')\n",
    "North_Caucasus_Federal_District_pois=gpd.read_file('/Users/igorkim/Desktop/ВШЭ/Курсы/Годовой проект/Данные/North_Caucasus_Federal_District/gis_osm_pois_free_1.shp')\n",
    "North_Caucasus_Federal_District_traffic=gpd.read_file('/Users/igorkim/Desktop/ВШЭ/Курсы/Годовой проект/Данные/North_Caucasus_Federal_District/gis_osm_traffic_free_1.shp')\n",
    "North_Caucasus_Federal_District_transport=gpd.read_file('/Users/igorkim/Desktop/ВШЭ/Курсы/Годовой проект/Данные/North_Caucasus_Federal_District/gis_osm_transport_free_1.shp')"
   ]
  },
  {
   "cell_type": "code",
   "execution_count": 18,
   "id": "4e90f08c",
   "metadata": {},
   "outputs": [],
   "source": [
    "Northwestern_Federal_District_buildings=gpd.read_file('/Users/igorkim/Desktop/ВШЭ/Курсы/Годовой проект/Данные/Northwestern_Federal_District/gis_osm_buildings_a_free_1.shp')\n",
    "Northwestern_Federal_District_places=gpd.read_file('/Users/igorkim/Desktop/ВШЭ/Курсы/Годовой проект/Данные/Northwestern_Federal_District/gis_osm_places_free_1.shp')\n",
    "Northwestern_Federal_District_pois=gpd.read_file('/Users/igorkim/Desktop/ВШЭ/Курсы/Годовой проект/Данные/Northwestern_Federal_District/gis_osm_pois_free_1.shp')\n",
    "Northwestern_Federal_District_traffic=gpd.read_file('/Users/igorkim/Desktop/ВШЭ/Курсы/Годовой проект/Данные/Northwestern_Federal_District/gis_osm_traffic_free_1.shp')\n",
    "Northwestern_Federal_District_transport=gpd.read_file('/Users/igorkim/Desktop/ВШЭ/Курсы/Годовой проект/Данные/Northwestern_Federal_District/gis_osm_transport_free_1.shp')"
   ]
  },
  {
   "cell_type": "code",
   "execution_count": 19,
   "id": "bd210579",
   "metadata": {},
   "outputs": [],
   "source": [
    "Siberian_Federal_District_buildings=gpd.read_file('/Users/igorkim/Desktop/ВШЭ/Курсы/Годовой проект/Данные/Siberian_Federal_District/gis_osm_buildings_a_free_1.shp')\n",
    "Siberian_Federal_District_places=gpd.read_file('/Users/igorkim/Desktop/ВШЭ/Курсы/Годовой проект/Данные/Siberian_Federal_District/gis_osm_places_free_1.shp')\n",
    "Siberian_Federal_District_pois=gpd.read_file('/Users/igorkim/Desktop/ВШЭ/Курсы/Годовой проект/Данные/Siberian_Federal_District/gis_osm_pois_free_1.shp')\n",
    "Siberian_Federal_District_traffic=gpd.read_file('/Users/igorkim/Desktop/ВШЭ/Курсы/Годовой проект/Данные/Siberian_Federal_District/gis_osm_traffic_free_1.shp')\n",
    "Siberian_Federal_District_transport=gpd.read_file('/Users/igorkim/Desktop/ВШЭ/Курсы/Годовой проект/Данные/Siberian_Federal_District/gis_osm_transport_free_1.shp')"
   ]
  },
  {
   "cell_type": "code",
   "execution_count": 20,
   "id": "751619c4",
   "metadata": {},
   "outputs": [],
   "source": [
    "South_Federal_District_buildings=gpd.read_file('/Users/igorkim/Desktop/ВШЭ/Курсы/Годовой проект/Данные/South_Federal_District/gis_osm_buildings_a_free_1.shp')\n",
    "South_Federal_District_places=gpd.read_file('/Users/igorkim/Desktop/ВШЭ/Курсы/Годовой проект/Данные/South_Federal_District/gis_osm_places_free_1.shp')\n",
    "South_Federal_District_pois=gpd.read_file('/Users/igorkim/Desktop/ВШЭ/Курсы/Годовой проект/Данные/South_Federal_District/gis_osm_pois_free_1.shp')\n",
    "South_Federal_District_traffic=gpd.read_file('/Users/igorkim/Desktop/ВШЭ/Курсы/Годовой проект/Данные/South_Federal_District/gis_osm_traffic_free_1.shp')\n",
    "South_Federal_District_transport=gpd.read_file('/Users/igorkim/Desktop/ВШЭ/Курсы/Годовой проект/Данные/South_Federal_District/gis_osm_transport_free_1.shp')"
   ]
  },
  {
   "cell_type": "code",
   "execution_count": 21,
   "id": "8b731a1d",
   "metadata": {},
   "outputs": [],
   "source": [
    "Ural_Federal_District_buildings=gpd.read_file('/Users/igorkim/Desktop/ВШЭ/Курсы/Годовой проект/Данные/Ural_Federal_District/gis_osm_buildings_a_free_1.shp')\n",
    "Ural_Federal_District_places=gpd.read_file('/Users/igorkim/Desktop/ВШЭ/Курсы/Годовой проект/Данные/Ural_Federal_District/gis_osm_places_free_1.shp')\n",
    "Ural_Federal_District_pois=gpd.read_file('/Users/igorkim/Desktop/ВШЭ/Курсы/Годовой проект/Данные/Ural_Federal_District/gis_osm_pois_free_1.shp')\n",
    "Ural_Federal_District_traffic=gpd.read_file('/Users/igorkim/Desktop/ВШЭ/Курсы/Годовой проект/Данные/Ural_Federal_District/gis_osm_traffic_free_1.shp')\n",
    "Ural_Federal_District_transport=gpd.read_file('/Users/igorkim/Desktop/ВШЭ/Курсы/Годовой проект/Данные/Ural_Federal_District/gis_osm_transport_free_1.shp')"
   ]
  },
  {
   "cell_type": "code",
   "execution_count": 22,
   "id": "95068650",
   "metadata": {},
   "outputs": [],
   "source": [
    "Volga_Federal_District_buildings=gpd.read_file('/Users/igorkim/Desktop/ВШЭ/Курсы/Годовой проект/Данные/Volga_Federal_District/gis_osm_buildings_a_free_1.shp')\n",
    "Volga_Federal_District_places=gpd.read_file('/Users/igorkim/Desktop/ВШЭ/Курсы/Годовой проект/Данные/Volga_Federal_District/gis_osm_places_free_1.shp')\n",
    "Volga_Federal_District_pois=gpd.read_file('/Users/igorkim/Desktop/ВШЭ/Курсы/Годовой проект/Данные/Volga_Federal_District/gis_osm_pois_free_1.shp')\n",
    "Volga_Federal_District_traffic=gpd.read_file('/Users/igorkim/Desktop/ВШЭ/Курсы/Годовой проект/Данные/Volga_Federal_District/gis_osm_traffic_free_1.shp')\n",
    "Volga_Federal_District_transport=gpd.read_file('/Users/igorkim/Desktop/ВШЭ/Курсы/Годовой проект/Данные/Volga_Federal_District/gis_osm_transport_free_1.shp')"
   ]
  },
  {
   "cell_type": "code",
   "execution_count": 86,
   "id": "1745b49a",
   "metadata": {},
   "outputs": [],
   "source": [
    "#все здания\n",
    "buildings = pd.concat([pd.DataFrame(Central_Federal_District_buildings),\n",
    "           pd.DataFrame(Crimean_Federal_District_buildings),\n",
    "           pd.DataFrame(Far_Eastern_Federal_District_buildings),\n",
    "           pd.DataFrame(North_Caucasus_Federal_District_buildings),\n",
    "           pd.DataFrame(Northwestern_Federal_District_buildings),\n",
    "           pd.DataFrame(Siberian_Federal_District_buildings),\n",
    "           pd.DataFrame(South_Federal_District_buildings),\n",
    "           pd.DataFrame(Ural_Federal_District_buildings),\n",
    "           pd.DataFrame(Volga_Federal_District_buildings)          \n",
    "          ])"
   ]
  },
  {
   "cell_type": "code",
   "execution_count": 24,
   "id": "0a46bf77",
   "metadata": {},
   "outputs": [],
   "source": [
    "#все локации\n",
    "places = pd.concat([pd.DataFrame(Central_Federal_District_places),\n",
    "           pd.DataFrame(Crimean_Federal_District_places),\n",
    "           pd.DataFrame(Far_Eastern_Federal_District_places),\n",
    "           pd.DataFrame(North_Caucasus_Federal_District_places),\n",
    "           pd.DataFrame(Northwestern_Federal_District_places),\n",
    "           pd.DataFrame(Siberian_Federal_District_places),\n",
    "           pd.DataFrame(South_Federal_District_places),\n",
    "           pd.DataFrame(Ural_Federal_District_places),\n",
    "           pd.DataFrame(Volga_Federal_District_places)          \n",
    "          ])"
   ]
  },
  {
   "cell_type": "code",
   "execution_count": 25,
   "id": "6a6914bb",
   "metadata": {},
   "outputs": [],
   "source": [
    "#объекты\n",
    "pois = pd.concat([pd.DataFrame(Central_Federal_District_pois),\n",
    "           pd.DataFrame(Crimean_Federal_District_pois),\n",
    "           pd.DataFrame(Far_Eastern_Federal_District_pois),\n",
    "           pd.DataFrame(North_Caucasus_Federal_District_pois),\n",
    "           pd.DataFrame(Northwestern_Federal_District_pois),\n",
    "           pd.DataFrame(Siberian_Federal_District_pois),\n",
    "           pd.DataFrame(South_Federal_District_pois),\n",
    "           pd.DataFrame(Ural_Federal_District_pois),\n",
    "           pd.DataFrame(Volga_Federal_District_pois)          \n",
    "          ])"
   ]
  },
  {
   "cell_type": "code",
   "execution_count": 26,
   "id": "6ce3705a",
   "metadata": {},
   "outputs": [],
   "source": [
    "#транспортные объекты\n",
    "transport = pd.concat([pd.DataFrame(Central_Federal_District_transport),\n",
    "           pd.DataFrame(Crimean_Federal_District_transport),\n",
    "           pd.DataFrame(Far_Eastern_Federal_District_transport),\n",
    "           pd.DataFrame(North_Caucasus_Federal_District_transport),\n",
    "           pd.DataFrame(Northwestern_Federal_District_transport),\n",
    "           pd.DataFrame(Siberian_Federal_District_transport),\n",
    "           pd.DataFrame(South_Federal_District_transport),\n",
    "           pd.DataFrame(Ural_Federal_District_transport),\n",
    "           pd.DataFrame(Volga_Federal_District_transport)          \n",
    "          ])"
   ]
  },
  {
   "cell_type": "code",
   "execution_count": 27,
   "id": "ae6b5cc4",
   "metadata": {},
   "outputs": [],
   "source": [
    "#траффик (парковки)\n",
    "traffic = pd.concat([pd.DataFrame(Central_Federal_District_traffic),\n",
    "           pd.DataFrame(Crimean_Federal_District_traffic),\n",
    "           pd.DataFrame(Far_Eastern_Federal_District_traffic),\n",
    "           pd.DataFrame(North_Caucasus_Federal_District_traffic),\n",
    "           pd.DataFrame(Northwestern_Federal_District_traffic),\n",
    "           pd.DataFrame(Siberian_Federal_District_traffic),\n",
    "           pd.DataFrame(South_Federal_District_traffic),\n",
    "           pd.DataFrame(Ural_Federal_District_traffic),\n",
    "           pd.DataFrame(Volga_Federal_District_traffic)          \n",
    "          ])"
   ]
  },
  {
   "cell_type": "code",
   "execution_count": 28,
   "id": "a602b431",
   "metadata": {},
   "outputs": [],
   "source": [
    "#сохранение в csv на всякий случай\n",
    "buildings.to_csv(path+'buildings.csv', index = False, header = True) \n",
    "places.to_csv(path+'places.csv', index = False, header = True) \n",
    "pois.to_csv(path+'pois.csv', index = False, header = True) \n",
    "transport.to_csv(path+'transport.csv', index = False, header = True) \n",
    "traffic.to_csv(path+'traffic.csv', index = False, header = True) "
   ]
  },
  {
   "cell_type": "markdown",
   "id": "11ec3c5c-627a-4b3f-bb57-2cccab443205",
   "metadata": {},
   "source": [
    "### 2. Обработка данных"
   ]
  },
  {
   "cell_type": "markdown",
   "id": "89f74fca-8210-444c-99f8-b162d7358485",
   "metadata": {},
   "source": [
    "#### 2.1 Оставляю лишь некоторые объекты"
   ]
  },
  {
   "cell_type": "code",
   "execution_count": 8,
   "id": "d65d9094",
   "metadata": {},
   "outputs": [],
   "source": [
    "buildings = pd.read_csv(path+'buildings.csv')\n",
    "pois = pd.read_csv(path+'pois.csv')\n",
    "places = pd.read_csv(path+'places.csv')\n",
    "traffic = pd.read_csv(path+'traffic.csv')\n",
    "transport = pd.read_csv(path+'transport.csv')"
   ]
  },
  {
   "cell_type": "code",
   "execution_count": 9,
   "id": "01aaf9b5",
   "metadata": {},
   "outputs": [],
   "source": [
    "build_types =['house', 'detached', 'apartments', 'residential', 'retail', 'commercial', 'office','train_station']"
   ]
  },
  {
   "cell_type": "code",
   "execution_count": null,
   "id": "403d2434-75df-4027-bfe9-82cf8c2546d8",
   "metadata": {},
   "outputs": [],
   "source": [
    "buildings_cleared = buildings[buildings['type'].isin(build_types)]"
   ]
  },
  {
   "cell_type": "code",
   "execution_count": null,
   "id": "a69d885c",
   "metadata": {},
   "outputs": [],
   "source": [
    "pois_type = ['convenience', 'cafe', 'supermarket','atm','bank','fast_food','clothes',\n",
    " 'mobile_phone_shop', 'restaurant','pharmacy','clothes','vending_any','shoe_shop','vending_parking','cinema']"
   ]
  },
  {
   "cell_type": "code",
   "execution_count": null,
   "id": "732cd5fe",
   "metadata": {},
   "outputs": [],
   "source": [
    "pois_cleared = pois[pois['fclass'].isin(pois_type)]"
   ]
  },
  {
   "cell_type": "code",
   "execution_count": null,
   "id": "33dbd3ff",
   "metadata": {},
   "outputs": [],
   "source": [
    "transport_type = ['airport','bus_stop','railway_halt','railway_station','tram_stop']\n",
    "transport_cleared = transport[transport['fclass'].isin(transport_type)]"
   ]
  },
  {
   "cell_type": "code",
   "execution_count": null,
   "id": "66269091",
   "metadata": {},
   "outputs": [],
   "source": [
    "traffic_cleared = traffic[traffic['fclass'].isin(['parking','parking_underground'])]"
   ]
  },
  {
   "cell_type": "code",
   "execution_count": 48,
   "id": "478421c5",
   "metadata": {},
   "outputs": [
    {
     "name": "stderr",
     "output_type": "stream",
     "text": [
      "/var/folders/40/syqp3b6j0cdf65gmn816vtx40000gn/T/ipykernel_981/2438361403.py:1: SettingWithCopyWarning: \n",
      "A value is trying to be set on a copy of a slice from a DataFrame.\n",
      "Try using .loc[row_indexer,col_indexer] = value instead\n",
      "\n",
      "See the caveats in the documentation: https://pandas.pydata.org/pandas-docs/stable/user_guide/indexing.html#returning-a-view-versus-a-copy\n",
      "  buildings_cleared['type_of_objects'] = 'buildings'\n"
     ]
    }
   ],
   "source": [
    "buildings_cleared['type_of_objects'] = 'buildings'\n",
    "pois_cleared['type_of_objects']='pois'\n",
    "transport_cleared['type_of_objects'] ='transport'\n",
    "traffic_cleared['type_of_objects']='traffic'"
   ]
  },
  {
   "cell_type": "code",
   "execution_count": 65,
   "id": "e1f0ed3b",
   "metadata": {},
   "outputs": [
    {
     "name": "stderr",
     "output_type": "stream",
     "text": [
      "/var/folders/40/syqp3b6j0cdf65gmn816vtx40000gn/T/ipykernel_981/3151299272.py:1: SettingWithCopyWarning: \n",
      "A value is trying to be set on a copy of a slice from a DataFrame\n",
      "\n",
      "See the caveats in the documentation: https://pandas.pydata.org/pandas-docs/stable/user_guide/indexing.html#returning-a-view-versus-a-copy\n",
      "  buildings_cleared.rename(columns = {'type':'object_details'}, inplace = True)\n",
      "/var/folders/40/syqp3b6j0cdf65gmn816vtx40000gn/T/ipykernel_981/3151299272.py:2: SettingWithCopyWarning: \n",
      "A value is trying to be set on a copy of a slice from a DataFrame\n",
      "\n",
      "See the caveats in the documentation: https://pandas.pydata.org/pandas-docs/stable/user_guide/indexing.html#returning-a-view-versus-a-copy\n",
      "  pois_cleared.rename(columns = {'fclass':'object_details'}, inplace = True)\n",
      "/var/folders/40/syqp3b6j0cdf65gmn816vtx40000gn/T/ipykernel_981/3151299272.py:3: SettingWithCopyWarning: \n",
      "A value is trying to be set on a copy of a slice from a DataFrame\n",
      "\n",
      "See the caveats in the documentation: https://pandas.pydata.org/pandas-docs/stable/user_guide/indexing.html#returning-a-view-versus-a-copy\n",
      "  transport_cleared.rename(columns = {'fclass':'object_details'}, inplace = True)\n"
     ]
    }
   ],
   "source": [
    "buildings_cleared.rename(columns = {'type':'object_details'}, inplace = True)\n",
    "pois_cleared.rename(columns = {'fclass':'object_details'}, inplace = True)\n",
    "transport_cleared.rename(columns = {'fclass':'object_details'}, inplace = True)\n",
    "traffic_cleared.rename(columns = {'fclass':'object_details'}, inplace = True)"
   ]
  },
  {
   "cell_type": "code",
   "execution_count": 231,
   "id": "d63ad7e9",
   "metadata": {},
   "outputs": [],
   "source": [
    "#сохранение в csv на всякий случай\n",
    "buildings_cleared[['type_of_objects','object_details','geometry']].to_csv(path+'buildings.csv', index = False, header = True) \n",
    "pois_cleared[['type_of_objects','object_details','geometry','name']].to_csv(path+'pois.csv', index = False, header = True) \n",
    "transport_cleared[['type_of_objects','object_details','geometry']].to_csv(path+'transport.csv', index = False, header = True) \n",
    "traffic_cleared[['type_of_objects','object_details','geometry']].to_csv(path+'traffic.csv', index = False, header = True) "
   ]
  },
  {
   "cell_type": "markdown",
   "id": "be86842b-ecb6-4243-b53c-95e9bad38214",
   "metadata": {},
   "source": [
    "#### 2.2 Подгоняю объекты под единный формат"
   ]
  },
  {
   "cell_type": "code",
   "execution_count": 3,
   "id": "1a1defd2",
   "metadata": {},
   "outputs": [],
   "source": [
    "path = '/Users/igorkim/Desktop/ВШЭ/Курсы/Годовой проект/Данные/'\n",
    "buildings = pd.read_csv(path+'buildings.csv')\n",
    "pois = pd.read_csv(path+'pois.csv')\n",
    "traffic = pd.read_csv(path+'traffic.csv')\n",
    "transport = pd.read_csv(path+'transport.csv')"
   ]
  },
  {
   "cell_type": "code",
   "execution_count": 4,
   "id": "42b3af61",
   "metadata": {},
   "outputs": [],
   "source": [
    "gs = gpd.GeoSeries.from_wkt(buildings['geometry'])\n",
    "buildings = gpd.GeoDataFrame(buildings, geometry=gs.centroid)\n",
    "buildings['lon']= buildings.geometry.x\n",
    "buildings['lat']= buildings.geometry.y"
   ]
  },
  {
   "cell_type": "code",
   "execution_count": 5,
   "id": "481636c5",
   "metadata": {},
   "outputs": [],
   "source": [
    "gs = gpd.GeoSeries.from_wkt(traffic['geometry'])\n",
    "traffic = gpd.GeoDataFrame(traffic, geometry=gs)\n",
    "traffic['lon']= traffic.geometry.x\n",
    "traffic['lat']= traffic.geometry.y"
   ]
  },
  {
   "cell_type": "code",
   "execution_count": 6,
   "id": "6dfdcff9",
   "metadata": {},
   "outputs": [],
   "source": [
    "gs = gpd.GeoSeries.from_wkt(transport['geometry'])\n",
    "transport = gpd.GeoDataFrame(transport, geometry=gs)\n",
    "transport['lon']= transport.geometry.x\n",
    "transport['lat']= transport.geometry.y"
   ]
  },
  {
   "cell_type": "code",
   "execution_count": 7,
   "id": "ba545a4b",
   "metadata": {},
   "outputs": [],
   "source": [
    "gs = gpd.GeoSeries.from_wkt(pois['geometry'])\n",
    "pois = gpd.GeoDataFrame(pois, geometry=gs)\n",
    "pois['lon']= pois.geometry.x\n",
    "pois['lat']= pois.geometry.y"
   ]
  },
  {
   "cell_type": "code",
   "execution_count": 8,
   "id": "fc832b33",
   "metadata": {},
   "outputs": [],
   "source": [
    "pois['bank_name']= pois[(pois['name'].isin(['Сбербанк','Росбанк', 'Альфа-Банк','ВТБ']))]['name']"
   ]
  },
  {
   "cell_type": "code",
   "execution_count": 9,
   "id": "1efcbb81",
   "metadata": {},
   "outputs": [],
   "source": [
    "traffic['bank_name']=''\n",
    "buildings['bank_name']=''\n",
    "transport['bank_name']=''"
   ]
  },
  {
   "cell_type": "code",
   "execution_count": 10,
   "id": "5c00dd81",
   "metadata": {},
   "outputs": [],
   "source": [
    "all_object = pd.concat([buildings[['type_of_objects','object_details','bank_name','geometry', 'lon', 'lat']],\n",
    "                        pois[['type_of_objects','object_details','bank_name','geometry', 'lon', 'lat']],\n",
    "                        transport[['type_of_objects','object_details','bank_name','geometry', 'lon', 'lat']],\n",
    "                        traffic[['type_of_objects','object_details','bank_name','geometry', 'lon', 'lat']]], ignore_index=True)"
   ]
  },
  {
   "cell_type": "code",
   "execution_count": 11,
   "id": "973b3d55",
   "metadata": {},
   "outputs": [],
   "source": [
    "all_object['bank_name']=all_object.bank_name.replace('',np.nan)"
   ]
  },
  {
   "cell_type": "code",
   "execution_count": 12,
   "id": "0de4e913",
   "metadata": {},
   "outputs": [
    {
     "data": {
      "text/plain": [
       "bank_name\n",
       "Сбербанк      9886\n",
       "ВТБ           1211\n",
       "Альфа-Банк     703\n",
       "Росбанк        322\n",
       "Name: count, dtype: int64"
      ]
     },
     "execution_count": 12,
     "metadata": {},
     "output_type": "execute_result"
    }
   ],
   "source": [
    "all_object['bank_name'].value_counts()"
   ]
  },
  {
   "cell_type": "code",
   "execution_count": 13,
   "id": "35f807f5",
   "metadata": {},
   "outputs": [
    {
     "data": {
      "text/plain": [
       "5342356    sber_bank\n",
       "5342365     sber_atm\n",
       "5342397    sber_bank\n",
       "5342406     sber_atm\n",
       "5342423    sber_bank\n",
       "             ...    \n",
       "5630109    sber_bank\n",
       "5630416    sber_bank\n",
       "5630457     sber_atm\n",
       "5630663     sber_atm\n",
       "5630718    sber_bank\n",
       "Name: object_details, Length: 9886, dtype: object"
      ]
     },
     "execution_count": 13,
     "metadata": {},
     "output_type": "execute_result"
    }
   ],
   "source": [
    "all_object[all_object['bank_name']=='Сбербанк']['object_details'].replace({'bank':'sber_bank','atm':'sber_atm'})"
   ]
  },
  {
   "cell_type": "code",
   "execution_count": 14,
   "id": "4a98c944",
   "metadata": {},
   "outputs": [
    {
     "data": {
      "text/plain": [
       "5343977    ros_bank\n",
       "5344288    ros_bank\n",
       "5345276    ros_bank\n",
       "5345405    ros_bank\n",
       "5346200    ros_bank\n",
       "             ...   \n",
       "5613809    ros_bank\n",
       "5614322    ros_bank\n",
       "5615075    ros_bank\n",
       "5626741    ros_bank\n",
       "5628769    ros_bank\n",
       "Name: object_details, Length: 322, dtype: object"
      ]
     },
     "execution_count": 14,
     "metadata": {},
     "output_type": "execute_result"
    }
   ],
   "source": [
    "all_object[all_object['bank_name']=='Росбанк']['object_details'].replace({'bank':'ros_bank','atm':'ros_atm'})"
   ]
  },
  {
   "cell_type": "code",
   "execution_count": 15,
   "id": "55e4071c",
   "metadata": {},
   "outputs": [
    {
     "data": {
      "text/plain": [
       "5342796    alfa_bank\n",
       "5342862    alfa_bank\n",
       "5342863    alfa_bank\n",
       "5342865    alfa_bank\n",
       "5342866    alfa_bank\n",
       "             ...    \n",
       "5622409     alfa_atm\n",
       "5626531    alfa_bank\n",
       "5627364    alfa_bank\n",
       "5629623    alfa_bank\n",
       "5630664     alfa_atm\n",
       "Name: object_details, Length: 703, dtype: object"
      ]
     },
     "execution_count": 15,
     "metadata": {},
     "output_type": "execute_result"
    }
   ],
   "source": [
    "all_object[all_object['bank_name']=='Альфа-Банк']['object_details'].replace({'bank':'alfa_bank','atm':'alfa_atm'})"
   ]
  },
  {
   "cell_type": "code",
   "execution_count": 16,
   "id": "662ad2da",
   "metadata": {},
   "outputs": [
    {
     "data": {
      "text/plain": [
       "5342375    vtb_bank\n",
       "5342528    vtb_bank\n",
       "5342540    vtb_bank\n",
       "5342626    vtb_bank\n",
       "5342797    vtb_bank\n",
       "             ...   \n",
       "5629509     vtb_atm\n",
       "5630657    vtb_bank\n",
       "5630662     vtb_atm\n",
       "5630665     vtb_atm\n",
       "5630715     vtb_atm\n",
       "Name: object_details, Length: 1211, dtype: object"
      ]
     },
     "execution_count": 16,
     "metadata": {},
     "output_type": "execute_result"
    }
   ],
   "source": [
    "all_object[all_object['bank_name']=='ВТБ']['object_details'].replace({'bank':'vtb_bank','atm':'vtb_atm'})"
   ]
  },
  {
   "cell_type": "code",
   "execution_count": 17,
   "id": "772bd74e",
   "metadata": {},
   "outputs": [],
   "source": [
    "all_object['bank_names']=pd.concat([\n",
    "    all_object[all_object['bank_name']=='Сбербанк']['object_details'].replace({'bank':'sber_bank','atm':'sber_atm'}),\n",
    "    all_object[all_object['bank_name']=='Росбанк']['object_details'].replace({'bank':'ros_bank','atm':'ros_atm'}),\n",
    "    all_object[all_object['bank_name']=='Альфа-Банк']['object_details'].replace({'bank':'alfa_bank','atm':'alfa_atm'}),\n",
    "    all_object[all_object['bank_name']=='ВТБ']['object_details'].replace({'bank':'vtb_bank','atm':'vtb_atm'})\n",
    "    ])"
   ]
  },
  {
   "cell_type": "code",
   "execution_count": 18,
   "id": "69c6d4fb",
   "metadata": {},
   "outputs": [],
   "source": [
    "all_object['bulding_type'] = all_object['bank_names'].combine_first(all_object['object_details'])\n",
    "all_object = all_object[['bulding_type','geometry', 'lon','lat']]"
   ]
  },
  {
   "cell_type": "code",
   "execution_count": 19,
   "id": "1237070f-e503-4068-8e41-612ad59fd78a",
   "metadata": {},
   "outputs": [
    {
     "data": {
      "text/plain": [
       "37"
      ]
     },
     "execution_count": 19,
     "metadata": {},
     "output_type": "execute_result"
    }
   ],
   "source": [
    "all_object.bulding_type.nunique()"
   ]
  },
  {
   "cell_type": "code",
   "execution_count": 20,
   "id": "f40f7bfd-ad24-4c1d-834e-81dcec63ea9a",
   "metadata": {},
   "outputs": [
    {
     "data": {
      "text/html": [
       "<div>\n",
       "<style scoped>\n",
       "    .dataframe tbody tr th:only-of-type {\n",
       "        vertical-align: middle;\n",
       "    }\n",
       "\n",
       "    .dataframe tbody tr th {\n",
       "        vertical-align: top;\n",
       "    }\n",
       "\n",
       "    .dataframe thead th {\n",
       "        text-align: right;\n",
       "    }\n",
       "</style>\n",
       "<table border=\"1\" class=\"dataframe\">\n",
       "  <thead>\n",
       "    <tr style=\"text-align: right;\">\n",
       "      <th></th>\n",
       "      <th>bulding_type</th>\n",
       "      <th>geometry</th>\n",
       "      <th>lon</th>\n",
       "      <th>lat</th>\n",
       "    </tr>\n",
       "  </thead>\n",
       "  <tbody>\n",
       "    <tr>\n",
       "      <th>0</th>\n",
       "      <td>retail</td>\n",
       "      <td>POINT (37.53998 55.91602)</td>\n",
       "      <td>37.539984</td>\n",
       "      <td>55.916019</td>\n",
       "    </tr>\n",
       "    <tr>\n",
       "      <th>1</th>\n",
       "      <td>retail</td>\n",
       "      <td>POINT (37.43134 55.84574)</td>\n",
       "      <td>37.431340</td>\n",
       "      <td>55.845741</td>\n",
       "    </tr>\n",
       "    <tr>\n",
       "      <th>2</th>\n",
       "      <td>apartments</td>\n",
       "      <td>POINT (37.42673 55.84569)</td>\n",
       "      <td>37.426733</td>\n",
       "      <td>55.845690</td>\n",
       "    </tr>\n",
       "    <tr>\n",
       "      <th>3</th>\n",
       "      <td>apartments</td>\n",
       "      <td>POINT (37.42637 55.84701)</td>\n",
       "      <td>37.426367</td>\n",
       "      <td>55.847007</td>\n",
       "    </tr>\n",
       "    <tr>\n",
       "      <th>4</th>\n",
       "      <td>apartments</td>\n",
       "      <td>POINT (37.42421 55.84746)</td>\n",
       "      <td>37.424205</td>\n",
       "      <td>55.847457</td>\n",
       "    </tr>\n",
       "  </tbody>\n",
       "</table>\n",
       "</div>"
      ],
      "text/plain": [
       "  bulding_type                   geometry        lon        lat\n",
       "0       retail  POINT (37.53998 55.91602)  37.539984  55.916019\n",
       "1       retail  POINT (37.43134 55.84574)  37.431340  55.845741\n",
       "2   apartments  POINT (37.42673 55.84569)  37.426733  55.845690\n",
       "3   apartments  POINT (37.42637 55.84701)  37.426367  55.847007\n",
       "4   apartments  POINT (37.42421 55.84746)  37.424205  55.847457"
      ]
     },
     "execution_count": 20,
     "metadata": {},
     "output_type": "execute_result"
    }
   ],
   "source": [
    "all_object.head()"
   ]
  },
  {
   "cell_type": "code",
   "execution_count": 22,
   "id": "8b2dddb3",
   "metadata": {},
   "outputs": [],
   "source": [
    "all_object.to_csv(path+'all_object.csv', header = True)"
   ]
  },
  {
   "cell_type": "code",
   "execution_count": null,
   "id": "cb344069-d2d3-4998-985b-d82131d6d240",
   "metadata": {},
   "outputs": [],
   "source": []
  }
 ],
 "metadata": {
  "kernelspec": {
   "display_name": "Python 3 (ipykernel)",
   "language": "python",
   "name": "python3"
  },
  "language_info": {
   "codemirror_mode": {
    "name": "ipython",
    "version": 3
   },
   "file_extension": ".py",
   "mimetype": "text/x-python",
   "name": "python",
   "nbconvert_exporter": "python",
   "pygments_lexer": "ipython3",
   "version": "3.9.18"
  }
 },
 "nbformat": 4,
 "nbformat_minor": 5
}
